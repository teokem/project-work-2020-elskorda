{
 "cells": [
  {
   "cell_type": "markdown",
   "metadata": {},
   "source": [
    "# Introduction to Random Number Generation and Monte Carlo Methods"
   ]
  },
  {
   "cell_type": "markdown",
   "metadata": {},
   "source": [
    "In this notebook we are going to explore the fascinating world of random numbers and one of the most popular computational algorithms that rely on random numbers the Monte Carlo methods. This introduction is designed for students who are already familiar with basic concepts of probability theory and statistics. \n",
    "\n",
    "\n",
    "The main outline is the following: \n",
    "\n",
    "* [Random Number Generation](#Random_Number_Generation)\n",
    "\n",
    "    In this section we will address the following: \n",
    "    * [What is a \"random number\"?](#What_is_rn)\n",
    "    * [Example of pseudorandom generator](#LCG)\n",
    "    * [How can we evaluate our pseudorandom generator?](#Spectral)\n",
    "    * [How our method compares to python numpy random generators?](#CompPy)\n",
    "    \n",
    "    \n",
    "* [A First Glimpse to Monte Carlo Methods](#MC_intro)\n",
    "\n",
    "    Now that we have a taste of how one can generate a pseudo number generator is time to use it: \n",
    "    * [Draw random numbers from a probability distribution](#MC_dr) \n",
    "    * [Monte Carlo integration](#MC_integr)\n",
    "    * Calculating pi\n",
    "    \n",
    "    \n",
    "* [Exercises and extra Material](#Ex_Ex)\n",
    "    \n",
    "    The only way to digest the concepts discussed above is to \"get your hands dirty\". As my favorite math teacher in how school was always saying \"no one learned how to play the piano by watching a pianist play\".\n"
   ]
  },
  {
   "cell_type": "markdown",
   "metadata": {},
   "source": [
    "# Necessary imports"
   ]
  },
  {
   "cell_type": "code",
   "execution_count": null,
   "metadata": {},
   "outputs": [],
   "source": [
    "from IPython.display import IFrame #inline frame, render a document within another HTML document in the webpage.\n",
    "from IPython.display import Image #to be able to include figures\n",
    "import numpy as np  # library for numerical calculation \n",
    "import matplotlib.pyplot as plt #to create save plots\n",
    "import pandas as pd #load save and manipulate data \n",
    "from mpl_toolkits.mplot3d import Axes3D  # to create 3D plots \n",
    "%matplotlib notebook  "
   ]
  },
  {
   "cell_type": "code",
   "execution_count": null,
   "metadata": {},
   "outputs": [],
   "source": [
    "saveAll= False"
   ]
  },
  {
   "cell_type": "markdown",
   "metadata": {},
   "source": [
    "<a id='Random_Number_Generation'></a>\n",
    "# Random Number Generation \n"
   ]
  },
  {
   "cell_type": "markdown",
   "metadata": {},
   "source": [
    "<a id='What_is_rn'></a>\n",
    "## What is a random  number ??"
   ]
  },
  {
   "cell_type": "markdown",
   "metadata": {},
   "source": [
    "The outcome that we will get if we toss a perfect coin or roll a set of perfectly balanced dice is what we call a random number. Of course in real life, if we want to create a truly random number we need to search for more precise ways (Vincent,1970) . Physical phenomena like noise in electronics (Holman et al., 1995), or exponential decays have been used to create sequences of truly random numbers.\n",
    "\n",
    "Random numbers have numerous applications in simulations for various fields of science, engineering and cryptography. But there are other ways to create random numbers: we can create algorithms that will approximate a random number sequence. Such algorithms are called pseudo number generators and we are going to explore them further in the section coming up! "
   ]
  },
  {
   "cell_type": "markdown",
   "metadata": {},
   "source": [
    "<a id='LCG'></a>\n",
    "## Example of  pseudorandom generator"
   ]
  },
  {
   "cell_type": "markdown",
   "metadata": {},
   "source": [
    "As was discussed in the previous paragraph a pseudo random number generator is just an algorithm that is approximating  a sequence of random number. We will start by taking a look at a very old algorithm : the \"Linear congruential generator\" (LCG).\n",
    "\n",
    "This algorithm is generating a squence of random numbers using the recurrence relation: \n",
    "$$ x_{n+1} = (a * x_n + b ) mod M $$\n",
    "\n",
    "Lets think how this function generates numbers in general. We will start by implementing the algorithm: "
   ]
  },
  {
   "cell_type": "code",
   "execution_count": null,
   "metadata": {},
   "outputs": [],
   "source": [
    "def myrnd(N,seed,a,b,M):\n",
    "    xold = seed\n",
    "    random_numbers = []\n",
    "    for i in range(0,N):\n",
    "        # we implement the relationship above\n",
    "        xnew = np.fmod(a*xold+b,M)\n",
    "        xold = xnew\n",
    "        random_numbers.append(xnew)\n",
    "    return np.asarray(random_numbers)"
   ]
  },
  {
   "cell_type": "markdown",
   "metadata": {},
   "source": [
    "We will start by creating a simple example : seed = 13, a=5 , b=3 and M=16 "
   ]
  },
  {
   "cell_type": "code",
   "execution_count": null,
   "metadata": {},
   "outputs": [],
   "source": [
    "print(myrnd(20,15,3,5,16))"
   ]
  },
  {
   "cell_type": "markdown",
   "metadata": {},
   "source": [
    "From this example we observe the following : \n",
    "\n",
    "1. The numbers in the sequence the are not random \n",
    "2. They sequence starts repeating after the  17th digit \n",
    "\n",
    "The length of the sequence, before it start to repeat, is called *period* or *cycle length*. We are going to discuss it again later when we will try to determine what are the desired properties of a \"good\" generator.\n",
    "\n",
    "Before proceeding to tests is there anything we can say about the choice of the parameters we made in our implementation of the LCG?"
   ]
  },
  {
   "cell_type": "markdown",
   "metadata": {},
   "source": [
    "I am going to re-implement the sequence so that will return values in the interval (0,1) :"
   ]
  },
  {
   "cell_type": "code",
   "execution_count": null,
   "metadata": {},
   "outputs": [],
   "source": [
    "def myrnd(N,seed,a,b,M):\n",
    "    xold = seed\n",
    "    random_numbers = []\n",
    "    for i in range(0,N):\n",
    "        # we implement the relationship above\n",
    "        xnew = np.fmod(a*xold+b, M)\n",
    "        xold = xnew\n",
    "        # we devide with M to be in the range [0,1]\n",
    "        random_numbers.append(xnew/M)\n",
    "    return np.asarray(random_numbers)"
   ]
  },
  {
   "cell_type": "markdown",
   "metadata": {},
   "source": [
    "**What do you see if you change the value of M ?** Some values are really bad (for the fixed selection of the other parameters while others are really bad. How should we choose M? There is an extensive explanation in (Knuth,1981) of the theorems and lemmas that can provide with the best possible choice for the parameters. I encourage you to go through the text.  For now we are going to try two examples : \n",
    "\n",
    "1. a = 137 b=187 and M=256 \n",
    "2. a = 1664525 M= $2^{31} - 1 $ and b an odd number \n",
    "\n",
    "I should clarify that case 2. is optimal for 32 bit systems. To test those cases we are going to look at the distributions of the generated sequences (if they are indeed following U(0,1)). Next we are going to see if points of two sequences are distributed uniformly in the (x,y) plane. The next function is doing exactly that. As input we provide the number of numbers we want to generate and the parameters a,b and M for the LCG. "
   ]
  },
  {
   "cell_type": "code",
   "execution_count": null,
   "metadata": {},
   "outputs": [],
   "source": [
    "#function that splits a generated sequence in odd and even entries \n",
    "def parameterTest(N,a,b,M) :\n",
    "    my_seq = np.asarray(myrnd(2*N,0.5,a,b,M), dtype=np.float32) ;\n",
    "    set_of_x = my_seq[1::2]\n",
    "    set_of_y = my_seq[::2]\n",
    "    return set_of_x,set_of_y"
   ]
  },
  {
   "cell_type": "code",
   "execution_count": null,
   "metadata": {},
   "outputs": [],
   "source": [
    "# function to create to sublots one next to the other : one a histogram of each generated sequence \n",
    "# and a scatter plot of sequence 1 vs sequence 2. Some styling also done in this function \n",
    "def my_plot2D(setofx,setofy,saveFig=False,nameToSave=\"myfigure.png\"):\n",
    "    df = pd.DataFrame({'x_n':setofx,'y_n':setofy})\n",
    "    #figure size is in inches so to have the double column wide \n",
    "    #set the width to 7.2 wich is appoximate l83 mm and 3.5 approximately \n",
    "    # 89 mm \n",
    "    fig = plt.figure( figsize=(7.2,3.5))\n",
    "    ax = fig.add_subplot(121)\n",
    "    fig.subplots_adjust(wspace = .3, bottom = 0.2)\n",
    "    for j,series in enumerate(df.columns[:]):\n",
    "            alphaVal = 0.6\n",
    "            linethick = 3.5\n",
    "            df[series].plot.hist(bins=15,\n",
    "                label=series,\n",
    "                histtype='step', \n",
    "                stacked=True,\n",
    "                fill= False,\n",
    "                ax=ax,\n",
    "                alpha=alphaVal\n",
    "                )\n",
    "    ax.set_xlabel('')\n",
    "    ax.set_ylabel('')\n",
    "    ax.yaxis.major.formatter._useMathText = True\n",
    "    ax.yaxis.set_label_coords(0.5,1.01)\n",
    "    ax.yaxis.tick_left()\n",
    "    ax.legend(frameon=False, loc='lower center',ncol=1,handlelength=4)\n",
    "\n",
    "    ax1 = fig.add_subplot(122)\n",
    "    df.plot.scatter('x_n','y_n',s = 0.2,ax =ax1)\n",
    "    plt.show()\n",
    "    if saveAll:\n",
    "        fig.savefig(nameToSave, format='png', dpi=300)"
   ]
  },
  {
   "cell_type": "markdown",
   "metadata": {},
   "source": [
    "#### First case 1 : "
   ]
  },
  {
   "cell_type": "code",
   "execution_count": null,
   "metadata": {
    "scrolled": true
   },
   "outputs": [],
   "source": [
    "x,y = parameterTest(1000,137,187,256)\n",
    "my_plot2D(x,y,saveAll,\"LCG_137_187_256.png\")\n"
   ]
  },
  {
   "cell_type": "markdown",
   "metadata": {},
   "source": [
    "By looking at the left plot of the previous figure we can already notice that the generated values span through the range but there is a periodic behavior . When we look at the right plot we clearly see that the sequences are not so random... Lets try the same for case 2."
   ]
  },
  {
   "cell_type": "markdown",
   "metadata": {},
   "source": [
    "#### Next Case 2:"
   ]
  },
  {
   "cell_type": "code",
   "execution_count": null,
   "metadata": {},
   "outputs": [],
   "source": [
    "x,y= parameterTest(1000,1664525,163,2**31-1)\n",
    "my_plot2D(x,y,saveAll,\"LCG_1664525_163_2to31.png\") "
   ]
  },
  {
   "cell_type": "markdown",
   "metadata": {},
   "source": [
    "For this case things look better. Can we say now that we are happy with our result ?? Is that enough to say that we can use this generation for our calculations, simulations etc ?"
   ]
  },
  {
   "cell_type": "markdown",
   "metadata": {},
   "source": [
    "### What are the characteristics we want our generator to have? \n",
    "\n",
    "1. Large period.\\\n",
    "   As we saw in the previous section we need to make it so that the sequence will not start repeating after the 17th digit. The longer the length before the repetition starts the better :)  \n",
    "2. The produced numbers should distributed uniformly and be as random as possible.\n",
    "3. Be fast: of course it is relative to the computer speed but still it wouldn't be nice to wait for days before having  my sequence :D \n"
   ]
  },
  {
   "cell_type": "markdown",
   "metadata": {},
   "source": [
    "<a id='Spectral'></a>\n",
    "## How can we evaluate our pseudo-random generator? "
   ]
  },
  {
   "cell_type": "markdown",
   "metadata": {},
   "source": [
    "Now that we know what are the desired traits of a pseudo-random number generator how can we test the generator?? There are several ways to do that. After we generate our sequence we can go on and perform several statistical tests. We can perform a chi-square test, or use a Kolmogororv-Smirnov test. The test we are going to use here is the so called spectral test. "
   ]
  },
  {
   "cell_type": "markdown",
   "metadata": {},
   "source": [
    "Now lets create some sets of the pseudo random rumbers, starting from a **slightly** different seed: <a id='exercise1'></a>\n"
   ]
  },
  {
   "cell_type": "code",
   "execution_count": null,
   "metadata": {
    "scrolled": true
   },
   "outputs": [],
   "source": [
    "N=10000\n",
    "a = 1664525\n",
    "b = 163\n",
    "M = 2**31-1\n",
    "\n",
    "set_of_x = np.asarray(myrnd(N,0.5,a,b,M), dtype=np.float32) ;\n",
    "set_of_y = np.asarray(myrnd(N,1.,a,b,M), dtype=np.float32) ;\n",
    "set_of_z = np.asarray(myrnd(N,0.1,a,b,M), dtype=np.float32) ;\n",
    "df = pd.DataFrame({'x_n':set_of_x,'y_n':set_of_y,'z_n':set_of_z})\n",
    "#save to .csv \n",
    "if saveAll : \n",
    "    df.to_csv(\"xyzSequences.csv\", sep='\\t')\n",
    "\n",
    "#print the first rows that we have an overview\n",
    "df.head()"
   ]
  },
  {
   "cell_type": "markdown",
   "metadata": {},
   "source": [
    "Just by looking the first 20 rows of the sets we create we cannot see any repeated numbers and in general everything appears to be \"more random\" than what we saw in the previous example. Is this the case though ? Is there a way to determine if our generator is good ?"
   ]
  },
  {
   "cell_type": "code",
   "execution_count": null,
   "metadata": {},
   "outputs": [],
   "source": [
    "fig = plt.figure()\n",
    "ax = fig.add_subplot(111, projection='3d')\n",
    "ax.scatter3D(set_of_x, set_of_y, set_of_z,s=0.1)\n",
    "ax.set_xlabel('X')\n",
    "ax.set_ylabel('Y')\n",
    "ax.set_zlabel('Z')\n",
    "\n",
    "plt.show()\n",
    "if saveAll:\n",
    "    fig.savefig(\"spectral_LCG.png\", format='png', dpi=300)"
   ]
  },
  {
   "cell_type": "markdown",
   "metadata": {},
   "source": [
    "The box looks cool but try to rotate it! You will see suddenly planes appearing. This called \"Marsaglia effect\" (Marsaglia, 1968) and showed that the pseudorandom numbers actually fall in parallel succesive hyperplanes. The distance of the planes depends on the parameters chosen and ideally should be very small."
   ]
  },
  {
   "cell_type": "markdown",
   "metadata": {},
   "source": [
    "<a id='CompPy'></a>\n",
    "## How our method compares to python numpy random generators?"
   ]
  },
  {
   "cell_type": "markdown",
   "metadata": {},
   "source": [
    "It is now time to test Python's random number generator and specificaly we will go for numpy library random generator.  "
   ]
  },
  {
   "cell_type": "code",
   "execution_count": null,
   "metadata": {},
   "outputs": [],
   "source": [
    "np.random.seed(5)\n",
    "init_seq = np.random.rand(2000)\n",
    "my_plot2D(init_seq[::2],init_seq[1::2],saveAll,\"NumpyRandom_seed5.png\") "
   ]
  },
  {
   "cell_type": "code",
   "execution_count": null,
   "metadata": {},
   "outputs": [],
   "source": [
    "np.random.seed(5)\n",
    "set_of_x = np.random.rand(10000)\n",
    "np.random.seed(6)\n",
    "set_of_y = np.random.rand(10000)\n",
    "np.random.seed(7)\n",
    "set_of_z = np.random.rand(10000)\n",
    "df = pd.DataFrame({'x_n':set_of_x,'y_n':set_of_y,'z_n':set_of_z})\n",
    "#save to .csv \n",
    "if saveAll : \n",
    "    df.to_csv(\"xyzSequencesNumpyRandom.csv\", sep='\\t')\n",
    "\n",
    "fig = plt.figure()\n",
    "ax = fig.add_subplot(111, projection='3d')\n",
    "ax.scatter3D(set_of_x, set_of_y, set_of_z,s=0.1)\n",
    "ax.set_xlabel('X')\n",
    "ax.set_ylabel('Y')\n",
    "ax.set_zlabel('Z')\n",
    "\n",
    "plt.show()\n",
    "if saveAll:\n",
    "    fig.savefig(\"spectral_NumpyRandom.png\", format='png', dpi=300)"
   ]
  },
  {
   "cell_type": "markdown",
   "metadata": {},
   "source": [
    "Take your time and  rotate the plot above: now we don't see the previous effect! Before you declare a winner you should think that this is not the only test we perform! Still for the first application in the next part of the notebook we are going to use this generator. "
   ]
  },
  {
   "cell_type": "markdown",
   "metadata": {},
   "source": [
    "<a id='MC_intro'></a>\n",
    "# A First Glimpse to Monte Carlo Methods"
   ]
  },
  {
   "cell_type": "markdown",
   "metadata": {},
   "source": [
    "What do we mean when we say \"Monte Carlo Methods\" ??? \\\n",
    "We use this term to describe algorithms that use random sampling to get numerical solutions. They have various applications in big range of fields. \n",
    "In this section we are going to discuss how \"Monte Carlo\" is used to \n",
    "1. draw random numbers from a probability distribution (other than uniform)\n",
    "2. perform numerical integration"
   ]
  },
  {
   "cell_type": "markdown",
   "metadata": {},
   "source": [
    "<a id='MC_dr'></a>\n",
    "## Draw random numbers from a probability distribution (other than uniform)"
   ]
  },
  {
   "cell_type": "markdown",
   "metadata": {},
   "source": [
    "What happens if we want to have a set of random numbers distributed according to a certain propability?? We are going to discuss two methods: \n",
    "1. The transformation method\n",
    "2. The \"hit and miss\" method"
   ]
  },
  {
   "cell_type": "markdown",
   "metadata": {},
   "source": [
    "### Transformation method\n",
    "The idea here is simple : if we have a set of values uniformly distributed (U(0,1)) we can use the inverse of the cumulative distribution function (cdf) to create a set of values distributed according to the desired pdf. Lets see it with an example : \n",
    "\n",
    "We consider a triangular distribution.(Image from [Wikipedia](https://upload.wikimedia.org/wikipedia/commons/thumb/4/45/Triangular_distribution_PMF.png/1024px-Triangular_distribution_PMF.png))\n",
    "<img src=\"https://upload.wikimedia.org/wikipedia/commons/thumb/4/45/Triangular_distribution_PMF.png/1024px-Triangular_distribution_PMF.png\" data-canonical-src=\"https://upload.wikimedia.org/wikipedia/commons/thumb/4/45/Triangular_distribution_PMF.png/1024px-Triangular_distribution_PMF.png\" width=\"300\" height=\"500\" />\n",
    "The mathematical expression of this generic triangular distribution for our case were a=0, b=1 we have\n",
    "$$\n",
    "f(x|a) = \\left\\{\\begin{array}{lr}\n",
    "\\frac{2x}{a}, &\\text{for } 0\\leq x\\leq a\\\\\n",
    "\\frac{2(1-x)}{(1-a)}, &\\text{for } a\\leq x\\leq 1\n",
    "\\end{array}\\right. \n",
    "$$\n",
    "\n",
    "The cdf of the triangular probability density function is \n",
    "\n",
    "$$\n",
    "F(x|a) = \\left\\{\\begin{array}{lr}\n",
    "\\frac{x^2}{a}, &\\text{for } 0\\leq x\\leq a\\\\\n",
    "1- \\frac{(1-x)^2}{a(1-a)}, &\\text{for } a\\leq x\\leq 1\n",
    "\\end{array}\\right. \n",
    "$$\n",
    "\n",
    "Now we need to inverse the cdf : \n",
    "$$\n",
    "F^{-1}(x|a) = \\left\\{\\begin{array}{lr}\n",
    "\\sqrt{xa}, & 0\\leq x\\leq a\\\\\n",
    "1-\\sqrt{(1-x)(1-a)} , & a\\leq x\\leq 1\\\\\n",
    "\\end{array}\\right. \n",
    "$$\n",
    "\n",
    "Now all we need to do is to use this function to create the desired set of values. "
   ]
  },
  {
   "cell_type": "code",
   "execution_count": null,
   "metadata": {},
   "outputs": [],
   "source": [
    "init_seq = np.random.rand(30000)\n",
    "print(init_seq)\n",
    "a = np.sqrt((init_seq[ init_seq<0.2])*0.2)\n",
    "b = 1-np.sqrt((1-init_seq[ init_seq>=0.2])*0.8)\n",
    "c = np.concatenate((a,b))\n",
    "\n",
    "fig = plt.figure(figsize=(3.5,3.5))\n",
    "ax = fig.add_subplot(111)\n",
    "ax.hist(c,30)\n",
    "ax.set_xlabel('Random numbers from ')\n",
    "ax.set_ylabel('')\n",
    "\n",
    "plt.show()\n",
    "#print(np.sqrt())\n",
    "if saveAll:\n",
    "    fig.savefig(\"triangular.png\", format='png', dpi=300)"
   ]
  },
  {
   "cell_type": "markdown",
   "metadata": {},
   "source": [
    "### Hit and miss method\n",
    "The previous method has a caveat: we are not always able to apply it (Why??) A simpler method is to put the pdf in a rectangle and fill it with random points. All the points bellow the curve are \"hit\" and all those above them are a miss (we don't keep them ). "
   ]
  },
  {
   "cell_type": "markdown",
   "metadata": {},
   "source": [
    "Image from [PyMC 2.3.7rc1 documentation](https://pymc-devs.github.io/pymc/theory.html)\n",
    "<img src=\"https://pymc-devs.github.io/pymc/_images/reject.png\" data-canonical-src=\"https://pymc-devs.github.io/pymc/_images/reject.png\" width=\"400\" height=\"600\" />\n",
    "\n",
    " We this method we can quickly calculate the value of pi:"
   ]
  },
  {
   "cell_type": "code",
   "execution_count": null,
   "metadata": {},
   "outputs": [],
   "source": [
    "def calc_pi(N):\n",
    "    x= np.random.rand(N)\n",
    "    y = np.random.rand(N)\n",
    "    my_pi = 4*np.sum(x**2 + y**2 < 1 )/N\n",
    "    return my_pi\n",
    "print(calc_pi(10000))"
   ]
  },
  {
   "cell_type": "markdown",
   "metadata": {},
   "source": [
    "<a id='MC_integr'></a>\n",
    "## Monte Carlo integration (for 1D integrals)\n",
    "\n",
    "This is  a numerical technique in which  we use random numbers to estimate an integral. Lets consider a function $f(x)$ in some interval $(a,b)$.\n",
    "To  approximate the integral $$ I=\\int_a^b{f(x) dx } $$\n",
    "we generate a sample of N (pseudo)random numbers which are  uniformly distributed in the desired interval. For each point $x_i$ in the sample,we calculate  $f(x_i)$.  The estimation for the integral I is given by: \n",
    "$$<I> = (b-a) \\frac{1}{N} \\sum_{i=1}^N{f(x_i)}$$     \n",
    "It can be proven that the expected value of $<I>$ is I. Monte Carlo integration is providing the exact solution in the limit of $N \\rightarrow \\infty$. The variance of the estimator $<I>$, is proportional to $\\frac{1}{\\sqrt{N}}$. \n",
    "\n",
    "\n",
    "We are going to use the hit and miss method to calculate  the following integral\n",
    "$$ \\int_0^1 f(x)dx = \\int_0^1 \\cos (\\pi x/2) dx $$\n",
    "\n",
    "and the compare the numerical result to the analytical value.\n",
    "\n",
    "### Analytical solution \n",
    "$$ \\int_0^1 f(x)dx = \\int_0^1 \\cos (\\pi x/2) dx = \\frac{2}{\\pi} \\left( sin \\frac{\\pi x}{2} \\right)_0^1 = \\frac{2}{\\pi} \\approx 0.6366 $$\n",
    "### Numerical solution "
   ]
  },
  {
   "cell_type": "code",
   "execution_count": null,
   "metadata": {},
   "outputs": [],
   "source": [
    "def calc_int(N):\n",
    "    fmax =1.5\n",
    "    x = np.random.rand(N)\n",
    "    y = np.random.uniform(low=0.,high = fmax,size=[1,N])\n",
    "    my_int = np.sum(y < np.cos(np.pi* x / 2) )*fmax/N\n",
    "    return my_int\n",
    "print(calc_int(1000))\n"
   ]
  },
  {
   "cell_type": "markdown",
   "metadata": {},
   "source": [
    "We see that the solution is relatively close to the answer. How would this result compare to a more \"traditional\" integration method lets say Simpson?\n",
    "For one dimensional functions you will see that the more \"traditional\" methods are better than the Monte Carlo integration. Where MC is really useful is for multiple integrals "
   ]
  },
  {
   "cell_type": "markdown",
   "metadata": {},
   "source": [
    "<a id='Ex_Ex'></a>\n",
    "# Exercises  and extra Material"
   ]
  },
  {
   "cell_type": "markdown",
   "metadata": {},
   "source": [
    "## Exercises \n",
    "\n",
    "Now it is your turn to get your hands dirty and practice, practice, practice!!! Here is a list of things you can try on your own: \n",
    "\n",
    "1. One thing not really stressed in this notebook but really important is how we seed the generator! If you go through the extra Material or through the references it is not a good idea (under specific parameter choice) to seed LCG with 0. I want you to go [here](#exercise1)  and change the seed. What happens ? Can you explain your observation ?\n",
    "2. Try to time LCG and the python generators when generating 1000 10000 and 100000 random numbers.\n",
    "3. Change the number of generated values for the two cases where we used hit and miss method. How do the values compare for N= 1000 or N= 100000? \n",
    "4. Think of a way to check if the variance of the estimated integral is proportional to  $1/\\sqrt{N}$. **Hint** : you will need to repeat the calculation multiple times :)  "
   ]
  },
  {
   "cell_type": "markdown",
   "metadata": {},
   "source": [
    "## Extra Material\n",
    "This fascinating subject was only introduced here and there is a huge amount of material that you can find online and is only one google search away. Some sources particularly interesting sources are :\n",
    "* A very helpful book : \"Art of Computer Programming, Volume 2: Seminumerical Algorithms \" by Knuth\n",
    "* [*Quantum Random Number Generators* by  Miguel Herrero-Collantes](https://arxiv.org/pdf/1604.03304.pdf)\n",
    "* Some Wikipedia articles (Wikipedia is lovely but one should be careful : don't reference its articles in scientific publications) : \n",
    "    * [Linear congruential generator](https://en.wikipedia.org/wiki/Linear_congruential_generator)\n",
    "    * [Random number generation](https://en.wikipedia.org/wiki/Random_number_generation)\n",
    "    * [Pseudorandom number generator](https://en.wikipedia.org/wiki/Pseudorandom_number_generator)\n",
    "    * [Hardware random number generator](https://en.wikipedia.org/wiki/Hardware_random_number_generator)\n",
    "* A really nice blog post about problems with randome number generators, where also key concepts about the pseudorandom generators are explained [TIFU by using Math.random()](https://medium.com/@betable/tifu-by-using-math-random-f1c308c4fd9d)"
   ]
  },
  {
   "cell_type": "markdown",
   "metadata": {},
   "source": [
    "# References "
   ]
  },
  {
   "cell_type": "markdown",
   "metadata": {},
   "source": [
    "Holman, W.t., et al. “An Integrated Analog/Digital Random Noise Source.” *IEEE Transactions on Circuits and Systems I: Fundamental Theory and Applications*, vol. 44, no. 6, 1997, pp. 521–528., doi:10.1109/81.586025"
   ]
  },
  {
   "cell_type": "markdown",
   "metadata": {},
   "source": [
    "Knuth, Donald E. *The Art of Computer Programming*.Vol 2. Chapter 3, Addison-Wesley, 1981. "
   ]
  },
  {
   "cell_type": "markdown",
   "metadata": {},
   "source": [
    "Marsaglia, G. “Random Numbers Fall Mainly In The Planes.” *Proceedings of the National Academy of Sciences*, vol. 61, no. 1, Jan. 1968, pp. 25–28., doi:10.1073/pnas.61.1.25. "
   ]
  },
  {
   "cell_type": "markdown",
   "metadata": {},
   "source": [
    "Vincent, C H. “The Generation of Truly Random Binary Numbers.” *Journal of Physics E: Scientific Instruments*, vol. 3, no. 8, 1970, pp. 594–598., doi:10.1088/0022-3735/3/8/303. "
   ]
  },
  {
   "cell_type": "code",
   "execution_count": null,
   "metadata": {},
   "outputs": [],
   "source": []
  }
 ],
 "metadata": {
  "kernelspec": {
   "display_name": "Python 3",
   "language": "python",
   "name": "python3"
  },
  "language_info": {
   "codemirror_mode": {
    "name": "ipython",
    "version": 3
   },
   "file_extension": ".py",
   "mimetype": "text/x-python",
   "name": "python",
   "nbconvert_exporter": "python",
   "pygments_lexer": "ipython3",
   "version": "3.8.2"
  }
 },
 "nbformat": 4,
 "nbformat_minor": 4
}
